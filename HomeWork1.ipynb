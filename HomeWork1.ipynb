{
 "cells": [
  {
   "cell_type": "code",
   "execution_count": 2,
   "id": "7ed6f150",
   "metadata": {},
   "outputs": [],
   "source": [
    "class Perceptron:\n",
    "    \n",
    "    def __init__(self, eta=0.01, n_iter=10):\n",
    "        self.eta = eta\n",
    "        self.n_iter = n_iter\n",
    "    \n",
    "    def fit(self, X, y):\n",
    "        self.w_ = np.zeros(1 + X.shape[1])\n",
    "        self.errors_ = []\n",
    "        for _ in range(self.n_iter):\n",
    "            errors = 0\n",
    "            for xi, target in zip(X,y):\n",
    "                update=self.eta*(target-self.predict(xi))\n",
    "                self.w_[1:] += update *xi\n",
    "                self.w_[0] += update\n",
    "                errors += int(update != 0.0)\n",
    "            self.errors_.append(errors)\n",
    "        return self\n",
    "    \n",
    "    \n",
    "    def net_input(self, X):\n",
    "        return np.dot(X, self.w_[1:]) + self.w_[0]\n",
    "    \n",
    "    def predict(self, X):\n",
    "        return np.where(self.net_input(X) >= 0, 1, -1)"
   ]
  },
  {
   "cell_type": "code",
   "execution_count": 3,
   "id": "c0dd35a5",
   "metadata": {},
   "outputs": [],
   "source": [
    "model = Perceptron()"
   ]
  },
  {
   "cell_type": "code",
   "execution_count": 4,
   "id": "d06e4d96",
   "metadata": {},
   "outputs": [],
   "source": [
    "from sklearn.datasets import load_iris"
   ]
  },
  {
   "cell_type": "code",
   "execution_count": 5,
   "id": "c0c8cafd",
   "metadata": {},
   "outputs": [],
   "source": [
    "iris = load_iris()\n"
   ]
  },
  {
   "cell_type": "code",
   "execution_count": 6,
   "id": "a481a7b7",
   "metadata": {},
   "outputs": [],
   "source": [
    "import pandas as pd\n",
    "import numpy as np"
   ]
  },
  {
   "cell_type": "code",
   "execution_count": 7,
   "id": "b7849afe",
   "metadata": {},
   "outputs": [],
   "source": [
    "df = pd.DataFrame(data = np.c_[iris['data'], iris['target']],\n",
    "                 columns = iris['feature_names']+ ['target']) "
   ]
  },
  {
   "cell_type": "code",
   "execution_count": 8,
   "id": "ab18b700",
   "metadata": {},
   "outputs": [
    {
     "data": {
      "text/html": [
       "<div>\n",
       "<style scoped>\n",
       "    .dataframe tbody tr th:only-of-type {\n",
       "        vertical-align: middle;\n",
       "    }\n",
       "\n",
       "    .dataframe tbody tr th {\n",
       "        vertical-align: top;\n",
       "    }\n",
       "\n",
       "    .dataframe thead th {\n",
       "        text-align: right;\n",
       "    }\n",
       "</style>\n",
       "<table border=\"1\" class=\"dataframe\">\n",
       "  <thead>\n",
       "    <tr style=\"text-align: right;\">\n",
       "      <th></th>\n",
       "      <th>sepal length (cm)</th>\n",
       "      <th>sepal width (cm)</th>\n",
       "      <th>petal length (cm)</th>\n",
       "      <th>petal width (cm)</th>\n",
       "      <th>target</th>\n",
       "    </tr>\n",
       "  </thead>\n",
       "  <tbody>\n",
       "    <tr>\n",
       "      <th>0</th>\n",
       "      <td>5.1</td>\n",
       "      <td>3.5</td>\n",
       "      <td>1.4</td>\n",
       "      <td>0.2</td>\n",
       "      <td>0.0</td>\n",
       "    </tr>\n",
       "    <tr>\n",
       "      <th>1</th>\n",
       "      <td>4.9</td>\n",
       "      <td>3.0</td>\n",
       "      <td>1.4</td>\n",
       "      <td>0.2</td>\n",
       "      <td>0.0</td>\n",
       "    </tr>\n",
       "    <tr>\n",
       "      <th>2</th>\n",
       "      <td>4.7</td>\n",
       "      <td>3.2</td>\n",
       "      <td>1.3</td>\n",
       "      <td>0.2</td>\n",
       "      <td>0.0</td>\n",
       "    </tr>\n",
       "    <tr>\n",
       "      <th>3</th>\n",
       "      <td>4.6</td>\n",
       "      <td>3.1</td>\n",
       "      <td>1.5</td>\n",
       "      <td>0.2</td>\n",
       "      <td>0.0</td>\n",
       "    </tr>\n",
       "    <tr>\n",
       "      <th>4</th>\n",
       "      <td>5.0</td>\n",
       "      <td>3.6</td>\n",
       "      <td>1.4</td>\n",
       "      <td>0.2</td>\n",
       "      <td>0.0</td>\n",
       "    </tr>\n",
       "  </tbody>\n",
       "</table>\n",
       "</div>"
      ],
      "text/plain": [
       "   sepal length (cm)  sepal width (cm)  petal length (cm)  petal width (cm)  \\\n",
       "0                5.1               3.5                1.4               0.2   \n",
       "1                4.9               3.0                1.4               0.2   \n",
       "2                4.7               3.2                1.3               0.2   \n",
       "3                4.6               3.1                1.5               0.2   \n",
       "4                5.0               3.6                1.4               0.2   \n",
       "\n",
       "   target  \n",
       "0     0.0  \n",
       "1     0.0  \n",
       "2     0.0  \n",
       "3     0.0  \n",
       "4     0.0  "
      ]
     },
     "execution_count": 8,
     "metadata": {},
     "output_type": "execute_result"
    }
   ],
   "source": [
    "df.head()"
   ]
  },
  {
   "cell_type": "code",
   "execution_count": 9,
   "id": "4ae7f112",
   "metadata": {},
   "outputs": [],
   "source": [
    "X, y = df.iloc[:100, [0,2]].values, df.iloc[:100, 4]"
   ]
  },
  {
   "cell_type": "code",
   "execution_count": 10,
   "id": "22d619ef",
   "metadata": {},
   "outputs": [],
   "source": [
    "def a(x):\n",
    "    if x == 0:\n",
    "        return -1\n",
    "    else:\n",
    "        return 1\n",
    "    \n",
    "y = y.map(a)"
   ]
  },
  {
   "cell_type": "code",
   "execution_count": 11,
   "id": "74de5522",
   "metadata": {},
   "outputs": [],
   "source": [
    "y = y.values"
   ]
  },
  {
   "cell_type": "code",
   "execution_count": 12,
   "id": "c9c3d1b9",
   "metadata": {},
   "outputs": [
    {
     "data": {
      "text/plain": [
       "<__main__.Perceptron at 0x7fd6b1525970>"
      ]
     },
     "execution_count": 12,
     "metadata": {},
     "output_type": "execute_result"
    }
   ],
   "source": [
    "model.fit(X,y)"
   ]
  },
  {
   "cell_type": "code",
   "execution_count": 13,
   "id": "b78d7eb4",
   "metadata": {},
   "outputs": [
    {
     "data": {
      "text/plain": [
       "array([-0.04 , -0.068,  0.182])"
      ]
     },
     "execution_count": 13,
     "metadata": {},
     "output_type": "execute_result"
    }
   ],
   "source": [
    "model.w_"
   ]
  },
  {
   "cell_type": "code",
   "execution_count": 14,
   "id": "047ddc93",
   "metadata": {},
   "outputs": [
    {
     "data": {
      "text/plain": [
       "array(1)"
      ]
     },
     "execution_count": 14,
     "metadata": {},
     "output_type": "execute_result"
    }
   ],
   "source": [
    "model.predict([3.4, 3.1])"
   ]
  },
  {
   "cell_type": "code",
   "execution_count": 15,
   "id": "ea9b05d7",
   "metadata": {},
   "outputs": [],
   "source": [
    "from flask_restful import Api\n",
    "from flask_restful import Resource, Api\n",
    "from flask import Flask\n",
    "from flask import request, jsonify\n",
    "#prapare production environment: produce model -> make compatation with it -> \n",
    "#make prediction of new data from our model -> put solution to our webpage (use Flask)\n",
    "\n"
   ]
  },
  {
   "cell_type": "code",
   "execution_count": 16,
   "id": "01efa0ba",
   "metadata": {},
   "outputs": [
    {
     "name": "stdout",
     "output_type": "stream",
     "text": [
      "Requirement already satisfied: flask-restful in /Users/anastasiya/opt/anaconda3/lib/python3.9/site-packages (0.3.9)\n",
      "Requirement already satisfied: Flask>=0.8 in /Users/anastasiya/opt/anaconda3/lib/python3.9/site-packages (from flask-restful) (1.1.2)\n",
      "Requirement already satisfied: pytz in /Users/anastasiya/opt/anaconda3/lib/python3.9/site-packages (from flask-restful) (2021.3)\n",
      "Requirement already satisfied: six>=1.3.0 in /Users/anastasiya/opt/anaconda3/lib/python3.9/site-packages (from flask-restful) (1.16.0)\n",
      "Requirement already satisfied: aniso8601>=0.82 in /Users/anastasiya/opt/anaconda3/lib/python3.9/site-packages (from flask-restful) (9.0.1)\n",
      "Requirement already satisfied: Werkzeug>=0.15 in /Users/anastasiya/opt/anaconda3/lib/python3.9/site-packages (from Flask>=0.8->flask-restful) (2.0.2)\n",
      "Requirement already satisfied: Jinja2>=2.10.1 in /Users/anastasiya/opt/anaconda3/lib/python3.9/site-packages (from Flask>=0.8->flask-restful) (2.11.3)\n",
      "Requirement already satisfied: itsdangerous>=0.24 in /Users/anastasiya/opt/anaconda3/lib/python3.9/site-packages (from Flask>=0.8->flask-restful) (2.0.1)\n",
      "Requirement already satisfied: click>=5.1 in /Users/anastasiya/opt/anaconda3/lib/python3.9/site-packages (from Flask>=0.8->flask-restful) (8.0.3)\n",
      "Requirement already satisfied: MarkupSafe>=0.23 in /Users/anastasiya/opt/anaconda3/lib/python3.9/site-packages (from Jinja2>=2.10.1->Flask>=0.8->flask-restful) (1.1.1)\n",
      "\u001b[33mWARNING: You are using pip version 22.0.4; however, version 22.1 is available.\n",
      "You should consider upgrading via the '/Users/anastasiya/opt/anaconda3/bin/python -m pip install --upgrade pip' command.\u001b[0m\n"
     ]
    }
   ],
   "source": [
    "!pip install flask-restful"
   ]
  },
  {
   "cell_type": "code",
   "execution_count": 19,
   "id": "c0fdb107",
   "metadata": {},
   "outputs": [
    {
     "name": "stdout",
     "output_type": "stream",
     "text": [
      "Overwriting app.py\n"
     ]
    }
   ],
   "source": [
    "%%file app.py\n",
    "\n",
    "from flask_restful import Resource, api\n",
    "from flask import Flask\n",
    "from flask import request, jsonify\n",
    "\n",
    "app = Flask(Perceptron)\n",
    "api = api(app)\n",
    "\n",
    "#how we genarate pages\n",
    "@app.route('/', methods=['GET'])\n",
    "@app.route('/index')\n",
    "def home():\n",
    "    name = request.args.get(\"X\",\" \", \"y\", \" \")\n",
    "    return f\"here is your X and y for model {name}\"\n",
    "\n",
    "@app.route('perception', methods=[\"GET\"])\n",
    "def hello():\n",
    "    return \"welcome on my web page\"\n",
    "\n",
    "class Main(model):\n",
    "    def get(self):\n",
    "        return jsonify({\"home\":\"main method from class\"})\n",
    "\n",
    "api.add_resource(Main, '/testClass')    \n",
    "\n",
    "app.run()\n",
    "# default port is 5000\n",
    "# default address is localhost"
   ]
  },
  {
   "cell_type": "code",
   "execution_count": null,
   "id": "85128930",
   "metadata": {},
   "outputs": [],
   "source": []
  }
 ],
 "metadata": {
  "kernelspec": {
   "display_name": "Python 3 (ipykernel)",
   "language": "python",
   "name": "python3"
  },
  "language_info": {
   "codemirror_mode": {
    "name": "ipython",
    "version": 3
   },
   "file_extension": ".py",
   "mimetype": "text/x-python",
   "name": "python",
   "nbconvert_exporter": "python",
   "pygments_lexer": "ipython3",
   "version": "3.9.7"
  }
 },
 "nbformat": 4,
 "nbformat_minor": 5
}
